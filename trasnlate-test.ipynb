{
 "cells": [
  {
   "cell_type": "code",
   "execution_count": null,
   "metadata": {},
   "outputs": [],
   "source": [
    "#देहा बिबानगिरिफोरजों नायजादोंमोन"
   ]
  },
  {
   "cell_type": "code",
   "execution_count": 1,
   "metadata": {},
   "outputs": [],
   "source": [
    "from fairseq.models.transformer import TransformerModel\n",
    "#print(zh2en.eval())"
   ]
  },
  {
   "cell_type": "code",
   "execution_count": 2,
   "metadata": {},
   "outputs": [
    {
     "name": "stdout",
     "output_type": "stream",
     "text": [
      "loading archive file checkpoints\n",
      "loading archive file data-bin/brx_en_bpe5000\n",
      "| [brx] dictionary: 4992 types\n",
      "| [en] dictionary: 4992 types\n",
      "Namespace(activation_dropout=0.2, activation_fn='relu', adam_betas='(0.9, 0.98)', adam_eps=1e-08, adaptive_input=False, adaptive_softmax_cutoff=None, adaptive_softmax_dropout=0, arch='transformer', attention_dropout=0.2, best_checkpoint_metric='loss', bpe='sentencepiece', bucket_cap_mb=25, clip_norm=0.0, cpu=False, criterion='label_smoothed_cross_entropy', cross_self_attention=False, curriculum=0, data='data-bin/brx_en_bpe5000', dataset_impl=None, ddp_backend='c10d', decoder_attention_heads=2, decoder_embed_dim=512, decoder_embed_path=None, decoder_ffn_embed_dim=2048, decoder_input_dim=512, decoder_layerdrop=0, decoder_layers=5, decoder_layers_to_keep=None, decoder_learned_pos=False, decoder_normalize_before=True, decoder_output_dim=512, device_id=0, disable_validation=False, distributed_backend='nccl', distributed_init_method='tcp://localhost:10305', distributed_no_spawn=False, distributed_port=-1, distributed_rank=0, distributed_world_size=4, dropout=0.4, empty_cache_freq=0, encoder_attention_heads=2, encoder_embed_dim=512, encoder_embed_path=None, encoder_ffn_embed_dim=2048, encoder_layerdrop=0, encoder_layers=5, encoder_layers_to_keep=None, encoder_learned_pos=False, encoder_normalize_before=True, fast_stat_sync=False, find_unused_parameters=False, fix_batches_to_gpus=False, fixed_validation_seed=None, fp16=True, fp16_init_scale=128, fp16_scale_tolerance=0.0, fp16_scale_window=None, keep_interval_updates=-1, keep_last_epochs=-1, label_smoothing=0.2, layer_wise_attention=False, layernorm_embedding=False, lazy_load=False, left_pad_source=False, left_pad_target=False, load_alignments=False, log_format='tqdm', log_interval=1000, lr=[0.001], lr_scheduler='inverse_sqrt', max_epoch=100, max_sentences=None, max_sentences_valid=None, max_source_positions=1024, max_target_positions=1024, max_tokens=4000, max_tokens_valid=4000, max_update=0, maximize_best_checkpoint_metric=False, memory_efficient_fp16=False, min_loss_scale=0.0001, min_lr=1e-09, model_file='data-bin/brx_en_bpe5000/sentencepiece.bpe.model', no_cross_attention=False, no_epoch_checkpoints=False, no_last_checkpoints=False, no_progress_bar=False, no_save=False, no_save_optimizer_state=False, no_scale_embedding=False, no_token_positional_embeddings=False, num_workers=1, optimizer='adam', optimizer_overrides='{}', raw_text=False, required_batch_size_multiple=8, reset_dataloader=False, reset_lr_scheduler=False, reset_meters=False, reset_optimizer=False, restore_file='checkpoint_last.pt', save_dir='checkpoints', save_interval=10, save_interval_updates=0, seed=1, sentence_avg=False, sentencepiece_vocab='checkpoints/sentencepiece.bpe.model', share_all_embeddings=True, share_decoder_input_output_embed=True, skip_invalid_size_inputs_valid_test=False, source_lang='brx', target_lang='en', task='translation', tensorboard_logdir='', threshold_loss_scale=None, tokenizer=None, train_subset='train', truncate_source=False, update_freq=[1], upsample_primary=1, use_bmuf=False, user_dir=None, valid_subset='valid', validate_interval=1, warmup_init_lr=1e-07, warmup_updates=4000, weight_decay=0.0001)\n"
     ]
    }
   ],
   "source": [
    "brx2en = TransformerModel.from_pretrained(\n",
    "  'checkpoints',\n",
    "  checkpoint_file='checkpoint_best.pt',\n",
    "  data_name_or_path='data-bin/brx_en_bpe5000',\n",
    "  bpe='sentencepiece',\n",
    "  model_file='data-bin/brx_en_bpe5000/sentencepiece.bpe.model',\n",
    "  sentencepiece_vocab='data-bin/brx_en_bpe5000/sentencepiece.bpe.vocab'\n",
    ")"
   ]
  },
  {
   "cell_type": "code",
   "execution_count": 11,
   "metadata": {},
   "outputs": [
    {
     "name": "stdout",
     "output_type": "stream",
     "text": [
      "src: फिसा फिसा सावगारि बोनाय\n",
      "trnas:The miniature paintings are painted .\n"
     ]
    }
   ],
   "source": [
    "text='फिसा फिसा सावगारि बोनाय'\n",
    "print('src: '+text+'\\n'+'trnas:' + brx2en.translate(text))"
   ]
  },
  {
   "cell_type": "markdown",
   "metadata": {},
   "source": [
    "ORIGINAL: The city is famous for its majestic forts , palaces and beautiful lakes which attract tourists from all over the world ."
   ]
  },
  {
   "cell_type": "code",
   "execution_count": 8,
   "metadata": {},
   "outputs": [
    {
     "name": "stdout",
     "output_type": "stream",
     "text": [
      "src: सोरखारि मिरु रैखाथुमसालियाव मैदेर हाथाइजों बायदिसिना बानायनाय , दानाय लुनाय , सना रुफा , दंफांनिफ्राय दानखʼनाय मुवा , फिसा फिसा सावगारि बोनाय , मारबलनि मुसुखा आरो हाथियारफोरखौ गोबाङै बुथुमना दोननाय दं ।\n",
      "trnas:The government museum has a wide collection of elephants , textiles , woodcarvings , miniature paintings and weapons .\n"
     ]
    }
   ],
   "source": [
    "text='सोरखारि मिरु रैखाथुमसालियाव मैदेर हाथाइजों बायदिसिना बानायनाय , दानाय लुनाय , सना रुफा , दंफांनिफ्राय दानखʼनाय मुवा , फिसा फिसा सावगारि बोनाय , मारबलनि मुसुखा आरो हाथियारफोरखौ गोबाङै बुथुमना दोननाय दं ।'\n",
    "print('src: '+text+'\\n'+'trnas:' + brx2en.translate(text))"
   ]
  },
  {
   "cell_type": "markdown",
   "metadata": {},
   "source": [
    "The Government Central Museum has a rich collection of ivory work , textiles , jewellery , carved wooden objects , miniature paintings , marble statues , arms and weapons ."
   ]
  }
 ],
 "metadata": {
  "kernelspec": {
   "display_name": "Python 3",
   "language": "python",
   "name": "python3"
  },
  "language_info": {
   "codemirror_mode": {
    "name": "ipython",
    "version": 3
   },
   "file_extension": ".py",
   "mimetype": "text/x-python",
   "name": "python",
   "nbconvert_exporter": "python",
   "pygments_lexer": "ipython3",
   "version": "3.7.5"
  }
 },
 "nbformat": 4,
 "nbformat_minor": 2
}
